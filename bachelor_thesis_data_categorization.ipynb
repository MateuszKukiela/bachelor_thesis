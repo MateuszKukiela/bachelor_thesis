{
 "cells": [
  {
   "cell_type": "markdown",
   "metadata": {},
   "source": [
    "# Imports"
   ]
  },
  {
   "cell_type": "code",
   "execution_count": 17,
   "metadata": {},
   "outputs": [],
   "source": [
    "import os\n",
    "import logging\n",
    "import importlib\n",
    "importlib.reload(logging)\n",
    "log = logging.getLogger()\n",
    "log.setLevel('INFO')\n",
    "import sys\n",
    "\n",
    "logging.basicConfig(format='%(asctime)s %(levelname)s |: %(message)s',\n",
    "                     level=logging.INFO, stream=sys.stdout)\n",
    "import mne\n",
    "from mne.io import concatenate_raws\n",
    "import matplotlib.pyplot as plt\n",
    "from scipy import signal\n",
    "from sklearn import preprocessing\n",
    "import numpy as np\n",
    "from torchsummary import summary\n",
    "import torch\n",
    "\n",
    "from braindecode.datautil.signal_target import SignalAndTarget\n",
    "from braindecode.models.shallow_fbcsp import ShallowFBCSPNet\n",
    "from torch import nn\n",
    "from braindecode.torch_ext.util import set_random_seeds\n",
    "from braindecode.torch_ext.optimizers import AdamW\n",
    "import torch.nn.functional as F\n",
    "from braindecode.models.deep4 import Deep4Net"
   ]
  },
  {
   "cell_type": "markdown",
   "metadata": {},
   "source": [
    "# Data processing"
   ]
  },
  {
   "cell_type": "code",
   "execution_count": 10,
   "metadata": {},
   "outputs": [],
   "source": [
    "path = './processed_data/'\n",
    "data_type = 'XDAWN'\n",
    "X_pseudo_test = np.load(path + f'X_pseudo_test_{data_type}.npy', )\n",
    "X_word_test = np.load(path + f'X_word_test_{data_type}.npy', )\n",
    "X_pseudo_train = np.load(path + f'X_pseudo_train_{data_type}.npy', )\n",
    "X_word_train = np.load(path + f'X_word_train_{data_type}.npy', )"
   ]
  },
  {
   "cell_type": "code",
   "execution_count": 11,
   "metadata": {},
   "outputs": [],
   "source": [
    "X_test = np.concatenate((X_word_test,X_pseudo_test))\n",
    "X_test = (X_test * 1e8).astype(np.float32)\n",
    "y_test = np.zeros(X_test.shape[0])\n",
    "y_test[:X_word_test.shape[0]] = 1\n",
    "ind = np.arange(X_test.shape[0])\n",
    "np.random.shuffle(ind)\n",
    "X_test = X_test[ind,:,:]\n",
    "y_test = y_test[ind]\n",
    "\n",
    "X_train = np.concatenate((X_word_train,X_pseudo_train))\n",
    "X_train = (X_train * 1e8).astype(np.float32)\n",
    "y_train = np.zeros(X_train.shape[0])\n",
    "y_train[:X_word_train.shape[0]] = 1\n",
    "ind = np.arange(X_train.shape[0])\n",
    "np.random.shuffle(ind)\n",
    "X_train = X_train[ind,:,:]\n",
    "y_train = y_train[ind]\n",
    "\n",
    "y_test = y_test.astype(np.int64)\n",
    "y_train = y_train.astype(np.int64)"
   ]
  },
  {
   "cell_type": "code",
   "execution_count": 12,
   "metadata": {},
   "outputs": [
    {
     "name": "stdout",
     "output_type": "stream",
     "text": [
      "X_train; (12000, 19, 306)\n",
      "X_test; (6063, 19, 306)\n",
      "y_test; (6063,)\n",
      "y_train; (12000,)\n"
     ]
    }
   ],
   "source": [
    "print(f'X_train; {X_train.shape}')\n",
    "print(f'X_test; {X_test.shape}')\n",
    "print(f'y_test; {y_test.shape}')\n",
    "print(f'y_train; {y_train.shape}')"
   ]
  },
  {
   "cell_type": "code",
   "execution_count": 15,
   "metadata": {},
   "outputs": [],
   "source": [
    "train_set = SignalAndTarget(X_train, y=y_train)\n",
    "valid_set = SignalAndTarget(X_test, y=y_test)"
   ]
  },
  {
   "cell_type": "markdown",
   "metadata": {},
   "source": [
    "# ShallowFBCSPNet model"
   ]
  },
  {
   "cell_type": "code",
   "execution_count": 21,
   "metadata": {},
   "outputs": [],
   "source": [
    "# Set if you want to use GPU\n",
    "# You can also use torch.cuda.is_available() to determine if cuda is available on your machine.\n",
    "cuda = True\n",
    "set_random_seeds(seed=20170629, cuda=cuda)\n",
    "n_classes = 2\n",
    "in_chans = train_set.X.shape[1]\n",
    "# final_conv_length = auto ensures we only get a single output in the time dimension\n",
    "model = ShallowFBCSPNet(in_chans=in_chans, n_classes=n_classes,\n",
    "                        input_time_length=train_set.X.shape[2],\n",
    "                        final_conv_length='auto')\n",
    "if cuda:\n",
    "    model.cuda()\n",
    "    \n",
    "\n",
    "optimizer = AdamW(model.parameters(), lr=1*0.01, weight_decay=0.5*0.001) # these are good values for the deep model\n",
    "# optimizer = AdamW(model.parameters(), lr=0.0625 * 0.01, weight_decay=0)\n",
    "model.compile(loss=F.nll_loss, optimizer=optimizer, iterator_seed=1,)"
   ]
  },
  {
   "cell_type": "code",
   "execution_count": 22,
   "metadata": {},
   "outputs": [
    {
     "name": "stdout",
     "output_type": "stream",
     "text": [
      "2020-04-24 00:04:11,212 INFO |: Run until first stop...\n",
      "2020-04-24 00:04:15,184 INFO |: Epoch 0\n",
      "2020-04-24 00:04:15,185 INFO |: train_loss                4.57339\n",
      "2020-04-24 00:04:15,185 INFO |: valid_loss                4.27736\n",
      "2020-04-24 00:04:15,186 INFO |: train_misclass            0.50000\n",
      "2020-04-24 00:04:15,187 INFO |: valid_misclass            0.47881\n",
      "2020-04-24 00:04:15,188 INFO |: runtime                   0.00000\n",
      "2020-04-24 00:04:15,188 INFO |: \n",
      "2020-04-24 00:04:20,820 INFO |: Time only for training updates: 5.63s\n",
      "2020-04-24 00:04:24,777 INFO |: Epoch 1\n",
      "2020-04-24 00:04:24,778 INFO |: train_loss                0.28787\n",
      "2020-04-24 00:04:24,779 INFO |: valid_loss                0.66099\n",
      "2020-04-24 00:04:24,780 INFO |: train_misclass            0.12617\n",
      "2020-04-24 00:04:24,781 INFO |: valid_misclass            0.24509\n",
      "2020-04-24 00:04:24,781 INFO |: runtime                   9.60747\n",
      "2020-04-24 00:04:24,782 INFO |: \n",
      "2020-04-24 00:04:30,160 INFO |: Time only for training updates: 5.38s\n",
      "2020-04-24 00:04:34,128 INFO |: Epoch 2\n",
      "2020-04-24 00:04:34,129 INFO |: train_loss                0.11357\n",
      "2020-04-24 00:04:34,129 INFO |: valid_loss                1.45072\n",
      "2020-04-24 00:04:34,130 INFO |: train_misclass            0.04575\n",
      "2020-04-24 00:04:34,130 INFO |: valid_misclass            0.27890\n",
      "2020-04-24 00:04:34,131 INFO |: runtime                   9.34060\n",
      "2020-04-24 00:04:34,131 INFO |: \n",
      "2020-04-24 00:04:39,790 INFO |: Time only for training updates: 5.66s\n",
      "2020-04-24 00:04:43,924 INFO |: Epoch 3\n",
      "2020-04-24 00:04:43,925 INFO |: train_loss                0.09376\n",
      "2020-04-24 00:04:43,925 INFO |: valid_loss                1.14662\n",
      "2020-04-24 00:04:43,926 INFO |: train_misclass            0.03758\n",
      "2020-04-24 00:04:43,927 INFO |: valid_misclass            0.24394\n",
      "2020-04-24 00:04:43,929 INFO |: runtime                   9.62994\n",
      "2020-04-24 00:04:43,929 INFO |: \n",
      "2020-04-24 00:04:49,343 INFO |: Time only for training updates: 5.41s\n",
      "2020-04-24 00:04:53,314 INFO |: Epoch 4\n",
      "2020-04-24 00:04:53,315 INFO |: train_loss                0.02069\n",
      "2020-04-24 00:04:53,315 INFO |: valid_loss                1.38490\n",
      "2020-04-24 00:04:53,316 INFO |: train_misclass            0.00500\n",
      "2020-04-24 00:04:53,316 INFO |: valid_misclass            0.24427\n",
      "2020-04-24 00:04:53,317 INFO |: runtime                   9.55248\n",
      "2020-04-24 00:04:53,318 INFO |: \n",
      "2020-04-24 00:04:58,800 INFO |: Time only for training updates: 5.48s\n",
      "2020-04-24 00:05:02,748 INFO |: Epoch 5\n",
      "2020-04-24 00:05:02,749 INFO |: train_loss                0.00172\n",
      "2020-04-24 00:05:02,750 INFO |: valid_loss                1.74428\n",
      "2020-04-24 00:05:02,750 INFO |: train_misclass            0.00000\n",
      "2020-04-24 00:05:02,751 INFO |: valid_misclass            0.26274\n",
      "2020-04-24 00:05:02,752 INFO |: runtime                   9.45775\n",
      "2020-04-24 00:05:02,752 INFO |: \n",
      "2020-04-24 00:05:08,140 INFO |: Time only for training updates: 5.39s\n",
      "2020-04-24 00:05:12,086 INFO |: Epoch 6\n",
      "2020-04-24 00:05:12,087 INFO |: train_loss                0.01815\n",
      "2020-04-24 00:05:12,088 INFO |: valid_loss                1.89424\n",
      "2020-04-24 00:05:12,088 INFO |: train_misclass            0.00575\n",
      "2020-04-24 00:05:12,089 INFO |: valid_misclass            0.22233\n",
      "2020-04-24 00:05:12,089 INFO |: runtime                   9.34003\n",
      "2020-04-24 00:05:12,090 INFO |: \n",
      "2020-04-24 00:05:17,540 INFO |: Time only for training updates: 5.45s\n",
      "2020-04-24 00:05:21,485 INFO |: Epoch 7\n",
      "2020-04-24 00:05:21,486 INFO |: train_loss                0.00061\n",
      "2020-04-24 00:05:21,486 INFO |: valid_loss                2.03630\n",
      "2020-04-24 00:05:21,487 INFO |: train_misclass            0.00000\n",
      "2020-04-24 00:05:21,487 INFO |: valid_misclass            0.25730\n",
      "2020-04-24 00:05:21,488 INFO |: runtime                   9.40020\n",
      "2020-04-24 00:05:21,489 INFO |: \n",
      "2020-04-24 00:05:26,885 INFO |: Time only for training updates: 5.40s\n",
      "2020-04-24 00:05:30,983 INFO |: Epoch 8\n",
      "2020-04-24 00:05:30,985 INFO |: train_loss                0.00013\n",
      "2020-04-24 00:05:30,985 INFO |: valid_loss                2.27517\n",
      "2020-04-24 00:05:30,986 INFO |: train_misclass            0.00000\n",
      "2020-04-24 00:05:30,986 INFO |: valid_misclass            0.23998\n",
      "2020-04-24 00:05:30,987 INFO |: runtime                   9.34511\n",
      "2020-04-24 00:05:30,987 INFO |: \n",
      "2020-04-24 00:05:36,563 INFO |: Time only for training updates: 5.58s\n",
      "2020-04-24 00:05:40,533 INFO |: Epoch 9\n",
      "2020-04-24 00:05:40,534 INFO |: train_loss                0.00008\n",
      "2020-04-24 00:05:40,534 INFO |: valid_loss                2.19386\n",
      "2020-04-24 00:05:40,535 INFO |: train_misclass            0.00000\n",
      "2020-04-24 00:05:40,536 INFO |: valid_misclass            0.23437\n",
      "2020-04-24 00:05:40,536 INFO |: runtime                   9.67773\n",
      "2020-04-24 00:05:40,537 INFO |: \n",
      "2020-04-24 00:05:46,016 INFO |: Time only for training updates: 5.48s\n",
      "2020-04-24 00:05:49,967 INFO |: Epoch 10\n",
      "2020-04-24 00:05:49,967 INFO |: train_loss                0.00007\n",
      "2020-04-24 00:05:49,968 INFO |: valid_loss                2.14932\n",
      "2020-04-24 00:05:49,968 INFO |: train_misclass            0.00000\n",
      "2020-04-24 00:05:49,969 INFO |: valid_misclass            0.23602\n",
      "2020-04-24 00:05:49,969 INFO |: runtime                   9.45274\n",
      "2020-04-24 00:05:49,970 INFO |: \n"
     ]
    },
    {
     "data": {
      "text/plain": [
       "<braindecode.experiments.experiment.Experiment at 0x7f711b341940>"
      ]
     },
     "execution_count": 22,
     "metadata": {},
     "output_type": "execute_result"
    }
   ],
   "source": [
    "model.fit(train_set.X, train_set.y, epochs=10, batch_size=64, scheduler='cosine',\n",
    "         validation_data=(valid_set.X, valid_set.y),)"
   ]
  },
  {
   "cell_type": "code",
   "execution_count": 25,
   "metadata": {},
   "outputs": [],
   "source": [
    "model_path = './models/'\n",
    "torch.save(model.network, model_path + f'ShallowFBCSPNet_{data_type}')"
   ]
  },
  {
   "cell_type": "markdown",
   "metadata": {},
   "source": [
    "# Deep4Net model"
   ]
  },
  {
   "cell_type": "code",
   "execution_count": 18,
   "metadata": {},
   "outputs": [],
   "source": [
    "# Set if you want to use GPU\n",
    "# You can also use torch.cuda.is_available() to determine if cuda is available on your machine.\n",
    "cuda = True\n",
    "set_random_seeds(seed=20170629, cuda=cuda)\n",
    "\n",
    "# This will determine how many crops are processed in parallel\n",
    "input_time_length = 306\n",
    "# final_conv_length determines the size of the receptive field of the ConvNet\n",
    "model = Deep4Net(in_chans=19, n_classes=2, input_time_length=input_time_length,\n",
    "                 filter_length_3=5, filter_length_4=5,\n",
    "                 pool_time_stride=2,\n",
    "                 stride_before_pool=True,\n",
    "                        final_conv_length=1)\n",
    "if cuda:\n",
    "    model.cuda()\n",
    "    \n",
    "optimizer = AdamW(model.parameters(), lr=1*0.01, weight_decay=0.5*0.001) # these are good values for the deep model\n",
    "model.compile(loss=F.nll_loss, optimizer=optimizer,  iterator_seed=1, cropped=True)"
   ]
  },
  {
   "cell_type": "code",
   "execution_count": 20,
   "metadata": {},
   "outputs": [
    {
     "name": "stdout",
     "output_type": "stream",
     "text": [
      "2020-04-23 23:51:09,148 INFO |: Run until first stop...\n",
      "2020-04-23 23:51:17,392 INFO |: Epoch 0\n",
      "2020-04-23 23:51:17,393 INFO |: train_loss                25.65163\n",
      "2020-04-23 23:51:17,393 INFO |: valid_loss                26.84682\n",
      "2020-04-23 23:51:17,394 INFO |: train_misclass            0.50067\n",
      "2020-04-23 23:51:17,395 INFO |: valid_misclass            0.52086\n",
      "2020-04-23 23:51:17,395 INFO |: runtime                   0.00000\n",
      "2020-04-23 23:51:17,396 INFO |: \n",
      "2020-04-23 23:52:35,254 INFO |: Time only for training updates: 77.10s\n",
      "2020-04-23 23:52:43,688 INFO |: Epoch 1\n",
      "2020-04-23 23:52:43,689 INFO |: train_loss                0.42233\n",
      "2020-04-23 23:52:43,689 INFO |: valid_loss                0.63215\n",
      "2020-04-23 23:52:43,690 INFO |: train_misclass            0.14608\n",
      "2020-04-23 23:52:43,691 INFO |: valid_misclass            0.31667\n",
      "2020-04-23 23:52:43,692 INFO |: runtime                   86.10577\n",
      "2020-04-23 23:52:43,692 INFO |: \n",
      "2020-04-23 23:53:55,842 INFO |: Time only for training updates: 71.48s\n",
      "2020-04-23 23:54:03,665 INFO |: Epoch 2\n",
      "2020-04-23 23:54:03,665 INFO |: train_loss                0.46434\n",
      "2020-04-23 23:54:03,666 INFO |: valid_loss                1.18114\n",
      "2020-04-23 23:54:03,666 INFO |: train_misclass            0.13517\n",
      "2020-04-23 23:54:03,667 INFO |: valid_misclass            0.33350\n",
      "2020-04-23 23:54:03,667 INFO |: runtime                   80.58818\n",
      "2020-04-23 23:54:03,668 INFO |: \n",
      "2020-04-23 23:55:15,578 INFO |: Time only for training updates: 71.26s\n",
      "2020-04-23 23:55:23,401 INFO |: Epoch 3\n",
      "2020-04-23 23:55:23,401 INFO |: train_loss                0.15587\n",
      "2020-04-23 23:55:23,402 INFO |: valid_loss                1.44358\n",
      "2020-04-23 23:55:23,402 INFO |: train_misclass            0.05508\n",
      "2020-04-23 23:55:23,403 INFO |: valid_misclass            0.31536\n",
      "2020-04-23 23:55:23,404 INFO |: runtime                   79.73532\n",
      "2020-04-23 23:55:23,404 INFO |: \n",
      "2020-04-23 23:56:35,168 INFO |: Time only for training updates: 71.08s\n",
      "2020-04-23 23:56:42,972 INFO |: Epoch 4\n",
      "2020-04-23 23:56:42,973 INFO |: train_loss                0.03732\n",
      "2020-04-23 23:56:42,973 INFO |: valid_loss                1.44924\n",
      "2020-04-23 23:56:42,974 INFO |: train_misclass            0.00300\n",
      "2020-04-23 23:56:42,974 INFO |: valid_misclass            0.33168\n",
      "2020-04-23 23:56:42,975 INFO |: runtime                   79.59068\n",
      "2020-04-23 23:56:42,976 INFO |: \n",
      "2020-04-23 23:57:54,814 INFO |: Time only for training updates: 71.12s\n",
      "2020-04-23 23:58:02,630 INFO |: Epoch 5\n",
      "2020-04-23 23:58:02,631 INFO |: train_loss                0.01350\n",
      "2020-04-23 23:58:02,631 INFO |: valid_loss                1.54195\n",
      "2020-04-23 23:58:02,632 INFO |: train_misclass            0.00175\n",
      "2020-04-23 23:58:02,633 INFO |: valid_misclass            0.28006\n",
      "2020-04-23 23:58:02,633 INFO |: runtime                   79.64634\n",
      "2020-04-23 23:58:02,634 INFO |: \n",
      "2020-04-23 23:59:14,437 INFO |: Time only for training updates: 71.09s\n",
      "2020-04-23 23:59:22,230 INFO |: Epoch 6\n",
      "2020-04-23 23:59:22,231 INFO |: train_loss                0.03980\n",
      "2020-04-23 23:59:22,231 INFO |: valid_loss                1.60660\n",
      "2020-04-23 23:59:22,232 INFO |: train_misclass            0.00842\n",
      "2020-04-23 23:59:22,233 INFO |: valid_misclass            0.25829\n",
      "2020-04-23 23:59:22,234 INFO |: runtime                   79.62266\n",
      "2020-04-23 23:59:22,234 INFO |: \n",
      "2020-04-24 00:00:35,201 INFO |: Time only for training updates: 72.30s\n",
      "2020-04-24 00:00:43,042 INFO |: Epoch 7\n",
      "2020-04-24 00:00:43,043 INFO |: train_loss                0.00290\n",
      "2020-04-24 00:00:43,044 INFO |: valid_loss                1.68841\n",
      "2020-04-24 00:00:43,045 INFO |: train_misclass            0.00000\n",
      "2020-04-24 00:00:43,045 INFO |: valid_misclass            0.32113\n",
      "2020-04-24 00:00:43,046 INFO |: runtime                   80.76349\n",
      "2020-04-24 00:00:43,047 INFO |: \n"
     ]
    },
    {
     "ename": "KeyboardInterrupt",
     "evalue": "",
     "output_type": "error",
     "traceback": [
      "\u001b[0;31m---------------------------------------------------------------------------\u001b[0m",
      "\u001b[0;31mKeyboardInterrupt\u001b[0m                         Traceback (most recent call last)",
      "\u001b[0;32m<ipython-input-20-d2074fd0a269>\u001b[0m in \u001b[0;36m<module>\u001b[0;34m()\u001b[0m\n\u001b[1;32m      2\u001b[0m model.fit(train_set.X, train_set.y, epochs=10, batch_size=64, scheduler='cosine',\n\u001b[1;32m      3\u001b[0m           \u001b[0minput_time_length\u001b[0m\u001b[0;34m=\u001b[0m\u001b[0minput_time_length\u001b[0m\u001b[0;34m,\u001b[0m\u001b[0;34m\u001b[0m\u001b[0;34m\u001b[0m\u001b[0m\n\u001b[0;32m----> 4\u001b[0;31m          validation_data=(valid_set.X, valid_set.y),)\n\u001b[0m",
      "\u001b[0;32m/home/ukulele_personal/.local/lib/python3.7/site-packages/braindecode/models/base.py\u001b[0m in \u001b[0;36mfit\u001b[0;34m(self, train_X, train_y, epochs, batch_size, input_time_length, validation_data, model_constraint, remember_best_column, scheduler, log_0_epoch)\u001b[0m\n\u001b[1;32m    270\u001b[0m             \u001b[0mdo_early_stop\u001b[0m\u001b[0;34m=\u001b[0m\u001b[0;34m(\u001b[0m\u001b[0mremember_best_column\u001b[0m \u001b[0;32mis\u001b[0m \u001b[0;32mnot\u001b[0m \u001b[0;32mNone\u001b[0m\u001b[0;34m)\u001b[0m\u001b[0;34m,\u001b[0m\u001b[0;34m\u001b[0m\u001b[0;34m\u001b[0m\u001b[0m\n\u001b[1;32m    271\u001b[0m         )\n\u001b[0;32m--> 272\u001b[0;31m         \u001b[0mexp\u001b[0m\u001b[0;34m.\u001b[0m\u001b[0mrun\u001b[0m\u001b[0;34m(\u001b[0m\u001b[0;34m)\u001b[0m\u001b[0;34m\u001b[0m\u001b[0;34m\u001b[0m\u001b[0m\n\u001b[0m\u001b[1;32m    273\u001b[0m         \u001b[0mself\u001b[0m\u001b[0;34m.\u001b[0m\u001b[0mepochs_df\u001b[0m \u001b[0;34m=\u001b[0m \u001b[0mexp\u001b[0m\u001b[0;34m.\u001b[0m\u001b[0mepochs_df\u001b[0m\u001b[0;34m\u001b[0m\u001b[0;34m\u001b[0m\u001b[0m\n\u001b[1;32m    274\u001b[0m         \u001b[0;32mreturn\u001b[0m \u001b[0mexp\u001b[0m\u001b[0;34m\u001b[0m\u001b[0;34m\u001b[0m\u001b[0m\n",
      "\u001b[0;32m/home/ukulele_personal/.local/lib/python3.7/site-packages/braindecode/experiments/experiment.py\u001b[0m in \u001b[0;36mrun\u001b[0;34m(self)\u001b[0m\n\u001b[1;32m    225\u001b[0m         \u001b[0mself\u001b[0m\u001b[0;34m.\u001b[0m\u001b[0msetup_training\u001b[0m\u001b[0;34m(\u001b[0m\u001b[0;34m)\u001b[0m\u001b[0;34m\u001b[0m\u001b[0;34m\u001b[0m\u001b[0m\n\u001b[1;32m    226\u001b[0m         \u001b[0mlog\u001b[0m\u001b[0;34m.\u001b[0m\u001b[0minfo\u001b[0m\u001b[0;34m(\u001b[0m\u001b[0;34m\"Run until first stop...\"\u001b[0m\u001b[0;34m)\u001b[0m\u001b[0;34m\u001b[0m\u001b[0;34m\u001b[0m\u001b[0m\n\u001b[0;32m--> 227\u001b[0;31m         \u001b[0mself\u001b[0m\u001b[0;34m.\u001b[0m\u001b[0mrun_until_first_stop\u001b[0m\u001b[0;34m(\u001b[0m\u001b[0;34m)\u001b[0m\u001b[0;34m\u001b[0m\u001b[0;34m\u001b[0m\u001b[0m\n\u001b[0m\u001b[1;32m    228\u001b[0m         \u001b[0;32mif\u001b[0m \u001b[0mself\u001b[0m\u001b[0;34m.\u001b[0m\u001b[0mdo_early_stop\u001b[0m\u001b[0;34m:\u001b[0m\u001b[0;34m\u001b[0m\u001b[0;34m\u001b[0m\u001b[0m\n\u001b[1;32m    229\u001b[0m             \u001b[0;31m# always setup for second stop, in order to get best model\u001b[0m\u001b[0;34m\u001b[0m\u001b[0;34m\u001b[0m\u001b[0;34m\u001b[0m\u001b[0m\n",
      "\u001b[0;32m/home/ukulele_personal/.local/lib/python3.7/site-packages/braindecode/experiments/experiment.py\u001b[0m in \u001b[0;36mrun_until_first_stop\u001b[0;34m(self)\u001b[0m\n\u001b[1;32m    269\u001b[0m         \u001b[0muntil\u001b[0m \u001b[0mstop\u001b[0m \u001b[0mcriterion\u001b[0m \u001b[0;32mis\u001b[0m \u001b[0mfulfilled\u001b[0m\u001b[0;34m.\u001b[0m\u001b[0;34m\u001b[0m\u001b[0;34m\u001b[0m\u001b[0m\n\u001b[1;32m    270\u001b[0m         \"\"\"\n\u001b[0;32m--> 271\u001b[0;31m         \u001b[0mself\u001b[0m\u001b[0;34m.\u001b[0m\u001b[0mrun_until_stop\u001b[0m\u001b[0;34m(\u001b[0m\u001b[0mself\u001b[0m\u001b[0;34m.\u001b[0m\u001b[0mdatasets\u001b[0m\u001b[0;34m,\u001b[0m \u001b[0mremember_best\u001b[0m\u001b[0;34m=\u001b[0m\u001b[0mself\u001b[0m\u001b[0;34m.\u001b[0m\u001b[0mdo_early_stop\u001b[0m\u001b[0;34m)\u001b[0m\u001b[0;34m\u001b[0m\u001b[0;34m\u001b[0m\u001b[0m\n\u001b[0m\u001b[1;32m    272\u001b[0m \u001b[0;34m\u001b[0m\u001b[0m\n\u001b[1;32m    273\u001b[0m     \u001b[0;32mdef\u001b[0m \u001b[0mrun_until_second_stop\u001b[0m\u001b[0;34m(\u001b[0m\u001b[0mself\u001b[0m\u001b[0;34m)\u001b[0m\u001b[0;34m:\u001b[0m\u001b[0;34m\u001b[0m\u001b[0;34m\u001b[0m\u001b[0m\n",
      "\u001b[0;32m/home/ukulele_personal/.local/lib/python3.7/site-packages/braindecode/experiments/experiment.py\u001b[0m in \u001b[0;36mrun_until_stop\u001b[0;34m(self, datasets, remember_best)\u001b[0m\n\u001b[1;32m    310\u001b[0m         \u001b[0mself\u001b[0m\u001b[0;34m.\u001b[0m\u001b[0miterator\u001b[0m\u001b[0;34m.\u001b[0m\u001b[0mreset_rng\u001b[0m\u001b[0;34m(\u001b[0m\u001b[0;34m)\u001b[0m\u001b[0;34m\u001b[0m\u001b[0;34m\u001b[0m\u001b[0m\n\u001b[1;32m    311\u001b[0m         \u001b[0;32mwhile\u001b[0m \u001b[0;32mnot\u001b[0m \u001b[0mself\u001b[0m\u001b[0;34m.\u001b[0m\u001b[0mstop_criterion\u001b[0m\u001b[0;34m.\u001b[0m\u001b[0mshould_stop\u001b[0m\u001b[0;34m(\u001b[0m\u001b[0mself\u001b[0m\u001b[0;34m.\u001b[0m\u001b[0mepochs_df\u001b[0m\u001b[0;34m)\u001b[0m\u001b[0;34m:\u001b[0m\u001b[0;34m\u001b[0m\u001b[0;34m\u001b[0m\u001b[0m\n\u001b[0;32m--> 312\u001b[0;31m             \u001b[0mself\u001b[0m\u001b[0;34m.\u001b[0m\u001b[0mrun_one_epoch\u001b[0m\u001b[0;34m(\u001b[0m\u001b[0mdatasets\u001b[0m\u001b[0;34m,\u001b[0m \u001b[0mremember_best\u001b[0m\u001b[0;34m)\u001b[0m\u001b[0;34m\u001b[0m\u001b[0;34m\u001b[0m\u001b[0m\n\u001b[0m\u001b[1;32m    313\u001b[0m \u001b[0;34m\u001b[0m\u001b[0m\n\u001b[1;32m    314\u001b[0m     \u001b[0;32mdef\u001b[0m \u001b[0mrun_one_epoch\u001b[0m\u001b[0;34m(\u001b[0m\u001b[0mself\u001b[0m\u001b[0;34m,\u001b[0m \u001b[0mdatasets\u001b[0m\u001b[0;34m,\u001b[0m \u001b[0mremember_best\u001b[0m\u001b[0;34m)\u001b[0m\u001b[0;34m:\u001b[0m\u001b[0;34m\u001b[0m\u001b[0;34m\u001b[0m\u001b[0m\n",
      "\u001b[0;32m/home/ukulele_personal/.local/lib/python3.7/site-packages/braindecode/experiments/experiment.py\u001b[0m in \u001b[0;36mrun_one_epoch\u001b[0;34m(self, datasets, remember_best)\u001b[0m\n\u001b[1;32m    333\u001b[0m             \u001b[0;31m# could happen that batch modifier has removed all inputs...\u001b[0m\u001b[0;34m\u001b[0m\u001b[0;34m\u001b[0m\u001b[0;34m\u001b[0m\u001b[0m\n\u001b[1;32m    334\u001b[0m             \u001b[0;32mif\u001b[0m \u001b[0mlen\u001b[0m\u001b[0;34m(\u001b[0m\u001b[0minputs\u001b[0m\u001b[0;34m)\u001b[0m \u001b[0;34m>\u001b[0m \u001b[0;36m0\u001b[0m\u001b[0;34m:\u001b[0m\u001b[0;34m\u001b[0m\u001b[0;34m\u001b[0m\u001b[0m\n\u001b[0;32m--> 335\u001b[0;31m                 \u001b[0mself\u001b[0m\u001b[0;34m.\u001b[0m\u001b[0mtrain_batch\u001b[0m\u001b[0;34m(\u001b[0m\u001b[0minputs\u001b[0m\u001b[0;34m,\u001b[0m \u001b[0mtargets\u001b[0m\u001b[0;34m)\u001b[0m\u001b[0;34m\u001b[0m\u001b[0;34m\u001b[0m\u001b[0m\n\u001b[0m\u001b[1;32m    336\u001b[0m         \u001b[0mend_train_epoch_time\u001b[0m \u001b[0;34m=\u001b[0m \u001b[0mtime\u001b[0m\u001b[0;34m.\u001b[0m\u001b[0mtime\u001b[0m\u001b[0;34m(\u001b[0m\u001b[0;34m)\u001b[0m\u001b[0;34m\u001b[0m\u001b[0;34m\u001b[0m\u001b[0m\n\u001b[1;32m    337\u001b[0m         log.info(\n",
      "\u001b[0;32m/home/ukulele_personal/.local/lib/python3.7/site-packages/braindecode/experiments/experiment.py\u001b[0m in \u001b[0;36mtrain_batch\u001b[0;34m(self, inputs, targets)\u001b[0m\n\u001b[1;32m    361\u001b[0m         \u001b[0mtarget_vars\u001b[0m \u001b[0;34m=\u001b[0m \u001b[0mnp_to_var\u001b[0m\u001b[0;34m(\u001b[0m\u001b[0mtargets\u001b[0m\u001b[0;34m,\u001b[0m \u001b[0mpin_memory\u001b[0m\u001b[0;34m=\u001b[0m\u001b[0mself\u001b[0m\u001b[0;34m.\u001b[0m\u001b[0mpin_memory\u001b[0m\u001b[0;34m)\u001b[0m\u001b[0;34m\u001b[0m\u001b[0;34m\u001b[0m\u001b[0m\n\u001b[1;32m    362\u001b[0m         \u001b[0;32mif\u001b[0m \u001b[0mself\u001b[0m\u001b[0;34m.\u001b[0m\u001b[0mcuda\u001b[0m\u001b[0;34m:\u001b[0m\u001b[0;34m\u001b[0m\u001b[0;34m\u001b[0m\u001b[0m\n\u001b[0;32m--> 363\u001b[0;31m             \u001b[0minput_vars\u001b[0m \u001b[0;34m=\u001b[0m \u001b[0minput_vars\u001b[0m\u001b[0;34m.\u001b[0m\u001b[0mcuda\u001b[0m\u001b[0;34m(\u001b[0m\u001b[0;34m)\u001b[0m\u001b[0;34m\u001b[0m\u001b[0;34m\u001b[0m\u001b[0m\n\u001b[0m\u001b[1;32m    364\u001b[0m             \u001b[0mtarget_vars\u001b[0m \u001b[0;34m=\u001b[0m \u001b[0mtarget_vars\u001b[0m\u001b[0;34m.\u001b[0m\u001b[0mcuda\u001b[0m\u001b[0;34m(\u001b[0m\u001b[0;34m)\u001b[0m\u001b[0;34m\u001b[0m\u001b[0;34m\u001b[0m\u001b[0m\n\u001b[1;32m    365\u001b[0m         \u001b[0mself\u001b[0m\u001b[0;34m.\u001b[0m\u001b[0moptimizer\u001b[0m\u001b[0;34m.\u001b[0m\u001b[0mzero_grad\u001b[0m\u001b[0;34m(\u001b[0m\u001b[0;34m)\u001b[0m\u001b[0;34m\u001b[0m\u001b[0;34m\u001b[0m\u001b[0m\n",
      "\u001b[0;31mKeyboardInterrupt\u001b[0m: "
     ]
    }
   ],
   "source": [
    "input_time_length = 306\n",
    "model.fit(train_set.X, train_set.y, epochs=10, batch_size=64, scheduler='cosine',\n",
    "          input_time_length=input_time_length,\n",
    "         validation_data=(valid_set.X, valid_set.y),)"
   ]
  },
  {
   "cell_type": "code",
   "execution_count": null,
   "metadata": {},
   "outputs": [],
   "source": []
  }
 ],
 "metadata": {
  "kernelspec": {
   "display_name": "Python 3",
   "language": "python",
   "name": "python3"
  },
  "language_info": {
   "codemirror_mode": {
    "name": "ipython",
    "version": 3
   },
   "file_extension": ".py",
   "mimetype": "text/x-python",
   "name": "python",
   "nbconvert_exporter": "python",
   "pygments_lexer": "ipython3",
   "version": "3.7.3"
  }
 },
 "nbformat": 4,
 "nbformat_minor": 2
}
